{
 "cells": [
  {
   "cell_type": "code",
   "execution_count": 89,
   "metadata": {},
   "outputs": [],
   "source": [
    "import pandas as pd\n",
    "import numpy as np"
   ]
  },
  {
   "cell_type": "code",
   "execution_count": 90,
   "metadata": {},
   "outputs": [],
   "source": [
    "df1 = pd.read_csv('2018-04-26_and_2018-05-26.csv', nrows=31)\n",
    "df2 = pd.read_csv('2018-05-27_and_2018-06-26.csv', nrows=31)\n",
    "df3 = pd.read_csv('2018-06-27_and_2018-07-27.csv', nrows=31)\n",
    "df4 = pd.read_csv('2018-07-28_and_2018-08-26.csv', nrows=31)\n",
    "df5 = pd.read_csv('2018-08-27_and_2018-09-26.csv', nrows=31)\n",
    "df6 = pd.read_csv('2018-09-27_and_2018-10-27.csv', nrows=31)\n",
    "df7 = pd.read_csv('2018-10-28_and-2018-11-27.csv', nrows=31)\n",
    "df8 = pd.read_csv('2018-11-28_and_2018-12-28.csv', nrows=9)"
   ]
  },
  {
   "cell_type": "code",
   "execution_count": 91,
   "metadata": {},
   "outputs": [],
   "source": [
    "df = pd.concat([df1, df2, df3, df4, df5, df6, df7, df8], join=\"inner\", ignore_index=True)"
   ]
  },
  {
   "cell_type": "code",
   "execution_count": 92,
   "metadata": {},
   "outputs": [],
   "source": [
    "# df = df.dropna()"
   ]
  },
  {
   "cell_type": "code",
   "execution_count": 93,
   "metadata": {},
   "outputs": [],
   "source": [
    "# df = df.reset_index()"
   ]
  },
  {
   "cell_type": "code",
   "execution_count": 94,
   "metadata": {},
   "outputs": [
    {
     "data": {
      "text/plain": [
       "Date                      1\n",
       "Calories Burned           1\n",
       "Steps                     1\n",
       "Distance                  1\n",
       "Floors                    1\n",
       "Minutes Sedentary         1\n",
       "Minutes Lightly Active    1\n",
       "Minutes Fairly Active     1\n",
       "Minutes Very Active       1\n",
       "Activity Calories         1\n",
       "dtype: int64"
      ]
     },
     "execution_count": 94,
     "metadata": {},
     "output_type": "execute_result"
    }
   ],
   "source": [
    "df.isna().sum()"
   ]
  },
  {
   "cell_type": "code",
   "execution_count": 95,
   "metadata": {},
   "outputs": [
    {
     "name": "stdout",
     "output_type": "stream",
     "text": [
      "    Date Calories Burned Steps  Distance  Floors Minutes Sedentary  \\\n",
      "123  NaN             NaN   NaN       NaN     NaN               NaN   \n",
      "\n",
      "     Minutes Lightly Active  Minutes Fairly Active  Minutes Very Active  \\\n",
      "123                     NaN                    NaN                  NaN   \n",
      "\n",
      "    Activity Calories  \n",
      "123               NaN  \n"
     ]
    }
   ],
   "source": [
    "null_columns=df.columns[df.isnull().any()]\n",
    "print(df[df.isnull().any(axis=1)][null_columns].head())"
   ]
  },
  {
   "cell_type": "code",
   "execution_count": 96,
   "metadata": {},
   "outputs": [],
   "source": [
    "df.replace(np.nan, 0, inplace=True)"
   ]
  },
  {
   "cell_type": "code",
   "execution_count": 97,
   "metadata": {},
   "outputs": [
    {
     "data": {
      "text/plain": [
       "Date                      0\n",
       "Calories Burned           0\n",
       "Steps                     0\n",
       "Distance                  0\n",
       "Floors                    0\n",
       "Minutes Sedentary         0\n",
       "Minutes Lightly Active    0\n",
       "Minutes Fairly Active     0\n",
       "Minutes Very Active       0\n",
       "Activity Calories         0\n",
       "dtype: int64"
      ]
     },
     "execution_count": 97,
     "metadata": {},
     "output_type": "execute_result"
    }
   ],
   "source": [
    "df.isna().sum()"
   ]
  },
  {
   "cell_type": "code",
   "execution_count": null,
   "metadata": {},
   "outputs": [],
   "source": []
  }
 ],
 "metadata": {
  "kernelspec": {
   "display_name": "Python 3",
   "language": "python",
   "name": "python3"
  },
  "language_info": {
   "codemirror_mode": {
    "name": "ipython",
    "version": 3
   },
   "file_extension": ".py",
   "mimetype": "text/x-python",
   "name": "python",
   "nbconvert_exporter": "python",
   "pygments_lexer": "ipython3",
   "version": "3.7.3"
  }
 },
 "nbformat": 4,
 "nbformat_minor": 2
}
