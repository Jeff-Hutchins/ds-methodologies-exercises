{
 "cells": [
  {
   "cell_type": "markdown",
   "metadata": {},
   "source": [
    "# Regular Expressions\n",
    "\n",
    "- [Examples](#Examples)\n",
    "- [Basic Regex](#Basic-Regex)\n",
    "    - [Metacharacters](#Metacharacters)\n",
    "    - [Repitition](#Repitition)\n",
    "    - [Any of / None of](#Any-of-/-None-of)\n",
    "    - [Anchors](#Anchors)\n",
    "    - [Other Functions](#Other-Functions)\n",
    "    - [Capture Groups](#Capture-Groups)\n",
    "    - [Flags](#Flags)\n",
    "    - [Usage with Pandas](#Usage-with-Pandas)"
   ]
  },
  {
   "cell_type": "markdown",
   "metadata": {},
   "source": [
    "## Examples"
   ]
  },
  {
   "cell_type": "markdown",
   "metadata": {},
   "source": [
    "Say I want to parse the following lines in a log file:\n",
    "\n",
    "<div style=\"font-family: monospace; overflow: scroll; white-space: pre\">GET /api/v1/sales?page=86 [16/Apr/2019:193452+0000] HTTP/1.1 {200} 510348 \"python-requests/2.21.0\" 97.105.19.58\n",
    "POST /users_accounts/file-upload [16/Apr/2019:193452+0000] HTTP/1.1 {201} 42 \"User-Agent: Mozilla/5.0 (X11; Fedora; Fedora; Linux x86_64) AppleWebKit/537.36 (KHTML, like Gecko) Chrome/73.0.3683.86 Safari/537.36\" 97.105.19.58\n",
    "GET /api/v1/items?page=3 [16/Apr/2019:193453+0000] HTTP/1.1 {429} 3561 \"python-requests/2.21.0\" 97.105.19.58\n",
    "</div>"
   ]
  },
  {
   "cell_type": "code",
   "execution_count": 2,
   "metadata": {},
   "outputs": [],
   "source": [
    "import re\n",
    "import pandas as pd"
   ]
  },
  {
   "cell_type": "markdown",
   "metadata": {},
   "source": [
    "Extract various components of an address:"
   ]
  },
  {
   "cell_type": "code",
   "execution_count": 84,
   "metadata": {},
   "outputs": [
    {
     "data": {
      "text/plain": [
       "0                      84 Rainey Street, Arlen, TX\n",
       "1    4 Privet Drive, Little Whinging, Surrey, U.K.\n",
       "2               740 Evergreen Terrace, Springfield\n",
       "3           1 Infinite Loop, Cupertino, California\n",
       "4                         Wayne Manor, Gotham City\n",
       "5                  124 Conch Street, Bikini Bottom\n",
       "dtype: object"
      ]
     },
     "execution_count": 84,
     "metadata": {},
     "output_type": "execute_result"
    }
   ],
   "source": [
    "addresses = pd.Series([\n",
    "    '84 Rainey Street, Arlen, TX',\n",
    "    '4 Privet Drive, Little Whinging, Surrey, U.K.',\n",
    "    '740 Evergreen Terrace, Springfield',\n",
    "    '1 Infinite Loop, Cupertino, California',\n",
    "    'Wayne Manor, Gotham City',\n",
    "    '124 Conch Street, Bikini Bottom',\n",
    "])\n",
    "addresses"
   ]
  },
  {
   "cell_type": "code",
   "execution_count": 82,
   "metadata": {},
   "outputs": [
    {
     "data": {
      "text/html": [
       "<div>\n",
       "<style scoped>\n",
       "    .dataframe tbody tr th:only-of-type {\n",
       "        vertical-align: middle;\n",
       "    }\n",
       "\n",
       "    .dataframe tbody tr th {\n",
       "        vertical-align: top;\n",
       "    }\n",
       "\n",
       "    .dataframe thead th {\n",
       "        text-align: right;\n",
       "    }\n",
       "</style>\n",
       "<table border=\"1\" class=\"dataframe\">\n",
       "  <thead>\n",
       "    <tr style=\"text-align: right;\">\n",
       "      <th></th>\n",
       "      <th>house_no</th>\n",
       "      <th>street</th>\n",
       "      <th>city</th>\n",
       "    </tr>\n",
       "  </thead>\n",
       "  <tbody>\n",
       "    <tr>\n",
       "      <th>0</th>\n",
       "      <td>84</td>\n",
       "      <td>Rainey Street</td>\n",
       "      <td>Arlen</td>\n",
       "    </tr>\n",
       "    <tr>\n",
       "      <th>1</th>\n",
       "      <td>4</td>\n",
       "      <td>Privet Drive</td>\n",
       "      <td>Little Whinging</td>\n",
       "    </tr>\n",
       "    <tr>\n",
       "      <th>2</th>\n",
       "      <td>740</td>\n",
       "      <td>Evergreen Terrace</td>\n",
       "      <td>Springfield</td>\n",
       "    </tr>\n",
       "    <tr>\n",
       "      <th>3</th>\n",
       "      <td>1</td>\n",
       "      <td>Infinite Loop</td>\n",
       "      <td>Cupertino</td>\n",
       "    </tr>\n",
       "    <tr>\n",
       "      <th>4</th>\n",
       "      <td>NaN</td>\n",
       "      <td>Wayne Manor</td>\n",
       "      <td>Gotham City</td>\n",
       "    </tr>\n",
       "    <tr>\n",
       "      <th>5</th>\n",
       "      <td>124</td>\n",
       "      <td>Conch Street</td>\n",
       "      <td>Bikini Bottom</td>\n",
       "    </tr>\n",
       "  </tbody>\n",
       "</table>\n",
       "</div>"
      ],
      "text/plain": [
       "  house_no             street             city\n",
       "0       84      Rainey Street            Arlen\n",
       "1        4       Privet Drive  Little Whinging\n",
       "2      740  Evergreen Terrace      Springfield\n",
       "3        1      Infinite Loop        Cupertino\n",
       "4      NaN        Wayne Manor      Gotham City\n",
       "5      124       Conch Street    Bikini Bottom"
      ]
     },
     "execution_count": 82,
     "metadata": {},
     "output_type": "execute_result"
    }
   ],
   "source": [
    "data = addresses.str.extract(r'^(\\d+)?\\s*(.*?),\\s*([\\w\\s]+)')\n",
    "data.columns = ['house_no', 'street', 'city']\n",
    "data"
   ]
  },
  {
   "cell_type": "code",
   "execution_count": null,
   "metadata": {},
   "outputs": [],
   "source": [
    "# find all the csv files refrenced in the curriculum (this won't work for you)\n",
    "# !(cd ~/codeup/curriculum/data-science/content && rg --vimgrep \".*pd.read_csv\\(['\\\"](.+)['\\\"]\\).*\" -r '$1')"
   ]
  },
  {
   "cell_type": "code",
   "execution_count": null,
   "metadata": {},
   "outputs": [],
   "source": [
    "# find all the imports in .py files in the curriculum (this won't work for you)\n",
    "# !(cd ~/codeup/curriculum/data-science/content && rg --vimgrep '^import\\s+([\\.\\w]+)\\s*(as\\s*\\w+)?.*$' -r '$1')"
   ]
  },
  {
   "cell_type": "markdown",
   "metadata": {},
   "source": [
    "## Basic Regex\n",
    "\n",
    "- what is a regex? (bigger than python, different flavors)\n",
    "- raw strings\n",
    "- re.findall (but also others)"
   ]
  },
  {
   "cell_type": "code",
   "execution_count": 5,
   "metadata": {},
   "outputs": [],
   "source": [
    "import re"
   ]
  },
  {
   "cell_type": "code",
   "execution_count": 7,
   "metadata": {},
   "outputs": [],
   "source": [
    "# for demonstration in this lesson\n",
    "from zgulde.hl_matches import hl_all_matches_nb as hl # pip install zgulde"
   ]
  },
  {
   "cell_type": "code",
   "execution_count": 8,
   "metadata": {},
   "outputs": [],
   "source": [
    "subject = 'Hello, Bayes! Today is Dec 3 and the temperature is 70 degrees.'"
   ]
  },
  {
   "cell_type": "code",
   "execution_count": 9,
   "metadata": {},
   "outputs": [
    {
     "data": {
      "text/plain": [
       "['H']"
      ]
     },
     "execution_count": 9,
     "metadata": {},
     "output_type": "execute_result"
    }
   ],
   "source": [
    "re.findall(r'H', subject)"
   ]
  },
  {
   "cell_type": "code",
   "execution_count": 17,
   "metadata": {},
   "outputs": [
    {
     "data": {
      "text/plain": [
       "['e', 'e', 'e', 'e', 'e', 'e', 'e', 'e', 'e', 'e']"
      ]
     },
     "execution_count": 17,
     "metadata": {},
     "output_type": "execute_result"
    }
   ],
   "source": [
    "re.findall(r'e', subject)"
   ]
  },
  {
   "cell_type": "code",
   "execution_count": 11,
   "metadata": {},
   "outputs": [
    {
     "data": {
      "text/html": [
       "<div style=\"font-family: monospace; letter-spacing: 3px; font-size: 24px; line-height: 36px;\">H<span style=\"text-decoration: underline\">e</span>llo, Bay<span style=\"text-decoration: underline\">e</span>s! Today is D<span style=\"text-decoration: underline\">e</span>c 3 and th<span style=\"text-decoration: underline\">e</span> t<span style=\"text-decoration: underline\">e</span>mp<span style=\"text-decoration: underline\">e</span>ratur<span style=\"text-decoration: underline\">e</span> is 70 d<span style=\"text-decoration: underline\">e</span>gr<span style=\"text-decoration: underline\">e</span><span style=\"text-decoration: underline\">e</span>s.</div>"
      ],
      "text/plain": [
       "<IPython.core.display.HTML object>"
      ]
     },
     "execution_count": 11,
     "metadata": {},
     "output_type": "execute_result"
    }
   ],
   "source": [
    "hl(r'e', subject)"
   ]
  },
  {
   "cell_type": "code",
   "execution_count": 12,
   "metadata": {},
   "outputs": [
    {
     "data": {
      "text/html": [
       "<div style=\"font-family: monospace; letter-spacing: 3px; font-size: 24px; line-height: 36px;\">Hello, Bayes! Today is Dec 3 and the temperature is <span style=\"text-decoration: underline\">70</span> degrees.</div>"
      ],
      "text/plain": [
       "<IPython.core.display.HTML object>"
      ]
     },
     "execution_count": 12,
     "metadata": {},
     "output_type": "execute_result"
    }
   ],
   "source": [
    "hl(r'70', subject)"
   ]
  },
  {
   "cell_type": "markdown",
   "metadata": {},
   "source": [
    "### Metacharacters"
   ]
  },
  {
   "cell_type": "code",
   "execution_count": 18,
   "metadata": {},
   "outputs": [
    {
     "data": {
      "text/html": [
       "<div style=\"font-family: monospace; letter-spacing: 3px; font-size: 24px; line-height: 36px;\"><span style=\"text-decoration: underline\">H</span><span style=\"text-decoration: underline\">e</span><span style=\"text-decoration: underline\">l</span><span style=\"text-decoration: underline\">l</span><span style=\"text-decoration: underline\">o</span>, <span style=\"text-decoration: underline\">B</span><span style=\"text-decoration: underline\">a</span><span style=\"text-decoration: underline\">y</span><span style=\"text-decoration: underline\">e</span><span style=\"text-decoration: underline\">s</span>! <span style=\"text-decoration: underline\">T</span><span style=\"text-decoration: underline\">o</span><span style=\"text-decoration: underline\">d</span><span style=\"text-decoration: underline\">a</span><span style=\"text-decoration: underline\">y</span> <span style=\"text-decoration: underline\">i</span><span style=\"text-decoration: underline\">s</span> <span style=\"text-decoration: underline\">D</span><span style=\"text-decoration: underline\">e</span><span style=\"text-decoration: underline\">c</span> <span style=\"text-decoration: underline\">3</span> <span style=\"text-decoration: underline\">a</span><span style=\"text-decoration: underline\">n</span><span style=\"text-decoration: underline\">d</span> <span style=\"text-decoration: underline\">t</span><span style=\"text-decoration: underline\">h</span><span style=\"text-decoration: underline\">e</span> <span style=\"text-decoration: underline\">t</span><span style=\"text-decoration: underline\">e</span><span style=\"text-decoration: underline\">m</span><span style=\"text-decoration: underline\">p</span><span style=\"text-decoration: underline\">e</span><span style=\"text-decoration: underline\">r</span><span style=\"text-decoration: underline\">a</span><span style=\"text-decoration: underline\">t</span><span style=\"text-decoration: underline\">u</span><span style=\"text-decoration: underline\">r</span><span style=\"text-decoration: underline\">e</span> <span style=\"text-decoration: underline\">i</span><span style=\"text-decoration: underline\">s</span> <span style=\"text-decoration: underline\">7</span><span style=\"text-decoration: underline\">0</span> <span style=\"text-decoration: underline\">d</span><span style=\"text-decoration: underline\">e</span><span style=\"text-decoration: underline\">g</span><span style=\"text-decoration: underline\">r</span><span style=\"text-decoration: underline\">e</span><span style=\"text-decoration: underline\">e</span><span style=\"text-decoration: underline\">s</span>.</div>"
      ],
      "text/plain": [
       "<IPython.core.display.HTML object>"
      ]
     },
     "execution_count": 18,
     "metadata": {},
     "output_type": "execute_result"
    }
   ],
   "source": [
    "hl(r'\\w', subject)"
   ]
  },
  {
   "cell_type": "code",
   "execution_count": 19,
   "metadata": {},
   "outputs": [
    {
     "data": {
      "text/html": [
       "<div style=\"font-family: monospace; letter-spacing: 3px; font-size: 24px; line-height: 36px;\">Hello, Bayes! Today is Dec <span style=\"text-decoration: underline\">3</span> and the temperature is <span style=\"text-decoration: underline\">7</span><span style=\"text-decoration: underline\">0</span> degrees.</div>"
      ],
      "text/plain": [
       "<IPython.core.display.HTML object>"
      ]
     },
     "execution_count": 19,
     "metadata": {},
     "output_type": "execute_result"
    }
   ],
   "source": [
    "hl(r'\\d', subject)"
   ]
  },
  {
   "cell_type": "code",
   "execution_count": 20,
   "metadata": {},
   "outputs": [
    {
     "data": {
      "text/html": [
       "<div style=\"font-family: monospace; letter-spacing: 3px; font-size: 24px; line-height: 36px;\">Hello,<span style=\"text-decoration: underline\"> </span>Bayes!<span style=\"text-decoration: underline\"> </span>Today<span style=\"text-decoration: underline\"> </span>is<span style=\"text-decoration: underline\"> </span>Dec<span style=\"text-decoration: underline\"> </span>3<span style=\"text-decoration: underline\"> </span>and<span style=\"text-decoration: underline\"> </span>the<span style=\"text-decoration: underline\"> </span>temperature<span style=\"text-decoration: underline\"> </span>is<span style=\"text-decoration: underline\"> </span>70<span style=\"text-decoration: underline\"> </span>degrees.</div>"
      ],
      "text/plain": [
       "<IPython.core.display.HTML object>"
      ]
     },
     "execution_count": 20,
     "metadata": {},
     "output_type": "execute_result"
    }
   ],
   "source": [
    "hl(r'\\s', subject)"
   ]
  },
  {
   "cell_type": "code",
   "execution_count": 22,
   "metadata": {},
   "outputs": [
    {
     "data": {
      "text/html": [
       "<div style=\"font-family: monospace; letter-spacing: 3px; font-size: 24px; line-height: 36px;\"><span style=\"text-decoration: underline\">H</span><span style=\"text-decoration: underline\">e</span><span style=\"text-decoration: underline\">l</span><span style=\"text-decoration: underline\">l</span><span style=\"text-decoration: underline\">o</span><span style=\"text-decoration: underline\">,</span><span style=\"text-decoration: underline\"> </span><span style=\"text-decoration: underline\">B</span><span style=\"text-decoration: underline\">a</span><span style=\"text-decoration: underline\">y</span><span style=\"text-decoration: underline\">e</span><span style=\"text-decoration: underline\">s</span><span style=\"text-decoration: underline\">!</span><span style=\"text-decoration: underline\"> </span><span style=\"text-decoration: underline\">T</span><span style=\"text-decoration: underline\">o</span><span style=\"text-decoration: underline\">d</span><span style=\"text-decoration: underline\">a</span><span style=\"text-decoration: underline\">y</span><span style=\"text-decoration: underline\"> </span><span style=\"text-decoration: underline\">i</span><span style=\"text-decoration: underline\">s</span><span style=\"text-decoration: underline\"> </span><span style=\"text-decoration: underline\">D</span><span style=\"text-decoration: underline\">e</span><span style=\"text-decoration: underline\">c</span><span style=\"text-decoration: underline\"> </span><span style=\"text-decoration: underline\">3</span><span style=\"text-decoration: underline\"> </span><span style=\"text-decoration: underline\">a</span><span style=\"text-decoration: underline\">n</span><span style=\"text-decoration: underline\">d</span><span style=\"text-decoration: underline\"> </span><span style=\"text-decoration: underline\">t</span><span style=\"text-decoration: underline\">h</span><span style=\"text-decoration: underline\">e</span><span style=\"text-decoration: underline\"> </span><span style=\"text-decoration: underline\">t</span><span style=\"text-decoration: underline\">e</span><span style=\"text-decoration: underline\">m</span><span style=\"text-decoration: underline\">p</span><span style=\"text-decoration: underline\">e</span><span style=\"text-decoration: underline\">r</span><span style=\"text-decoration: underline\">a</span><span style=\"text-decoration: underline\">t</span><span style=\"text-decoration: underline\">u</span><span style=\"text-decoration: underline\">r</span><span style=\"text-decoration: underline\">e</span><span style=\"text-decoration: underline\"> </span><span style=\"text-decoration: underline\">i</span><span style=\"text-decoration: underline\">s</span><span style=\"text-decoration: underline\"> </span><span style=\"text-decoration: underline\">7</span><span style=\"text-decoration: underline\">0</span><span style=\"text-decoration: underline\"> </span><span style=\"text-decoration: underline\">d</span><span style=\"text-decoration: underline\">e</span><span style=\"text-decoration: underline\">g</span><span style=\"text-decoration: underline\">r</span><span style=\"text-decoration: underline\">e</span><span style=\"text-decoration: underline\">e</span><span style=\"text-decoration: underline\">s</span><span style=\"text-decoration: underline\">.</span></div>"
      ],
      "text/plain": [
       "<IPython.core.display.HTML object>"
      ]
     },
     "execution_count": 22,
     "metadata": {},
     "output_type": "execute_result"
    }
   ],
   "source": [
    "hl(r'.', subject)"
   ]
  },
  {
   "cell_type": "markdown",
   "metadata": {},
   "source": [
    "### Repitition"
   ]
  },
  {
   "cell_type": "code",
   "execution_count": 21,
   "metadata": {},
   "outputs": [
    {
     "data": {
      "text/html": [
       "<div style=\"font-family: monospace; letter-spacing: 3px; font-size: 24px; line-height: 36px;\"><span style=\"text-decoration: underline\">Hello</span>, <span style=\"text-decoration: underline\">Bayes</span>! <span style=\"text-decoration: underline\">Today</span> <span style=\"text-decoration: underline\">is</span> <span style=\"text-decoration: underline\">Dec</span> <span style=\"text-decoration: underline\">3</span> <span style=\"text-decoration: underline\">and</span> <span style=\"text-decoration: underline\">the</span> <span style=\"text-decoration: underline\">temperature</span> <span style=\"text-decoration: underline\">is</span> <span style=\"text-decoration: underline\">70</span> <span style=\"text-decoration: underline\">degrees</span>.</div>"
      ],
      "text/plain": [
       "<IPython.core.display.HTML object>"
      ]
     },
     "execution_count": 21,
     "metadata": {},
     "output_type": "execute_result"
    }
   ],
   "source": [
    "hl(r'\\w+', subject)"
   ]
  },
  {
   "cell_type": "code",
   "execution_count": 26,
   "metadata": {},
   "outputs": [
    {
     "data": {
      "text/html": [
       "<div style=\"font-family: monospace; letter-spacing: 3px; font-size: 24px; line-height: 36px;\"><span style=\"text-decoration: underline\">Hello</span>, <span style=\"text-decoration: underline\">Bayes</span>! <span style=\"text-decoration: underline\">Today</span> is Dec 3 and the <span style=\"text-decoration: underline\">tempe</span><span style=\"text-decoration: underline\">ratur</span>e is 70 <span style=\"text-decoration: underline\">degre</span>es.</div>"
      ],
      "text/plain": [
       "<IPython.core.display.HTML object>"
      ]
     },
     "execution_count": 26,
     "metadata": {},
     "output_type": "execute_result"
    }
   ],
   "source": [
    "hl(r'\\w{5}', subject)"
   ]
  },
  {
   "cell_type": "code",
   "execution_count": 27,
   "metadata": {},
   "outputs": [
    {
     "data": {
      "text/html": [
       "<div style=\"font-family: monospace; letter-spacing: 3px; font-size: 24px; line-height: 36px;\">Hello, Bayes! Today is Dec 3 and the <span style=\"text-decoration: underline\">temperat</span>ure is 70 <span style=\"text-decoration: underline\">degrees</span>.</div>"
      ],
      "text/plain": [
       "<IPython.core.display.HTML object>"
      ]
     },
     "execution_count": 27,
     "metadata": {},
     "output_type": "execute_result"
    }
   ],
   "source": [
    "hl(r'\\w{6,8}', subject)"
   ]
  },
  {
   "cell_type": "markdown",
   "metadata": {},
   "source": [
    "### Any of / None of"
   ]
  },
  {
   "cell_type": "code",
   "execution_count": 28,
   "metadata": {},
   "outputs": [
    {
     "data": {
      "text/html": [
       "<div style=\"font-family: monospace; letter-spacing: 3px; font-size: 24px; line-height: 36px;\">H<span style=\"text-decoration: underline\">e</span>ll<span style=\"text-decoration: underline\">o</span>, B<span style=\"text-decoration: underline\">a</span>y<span style=\"text-decoration: underline\">e</span>s! T<span style=\"text-decoration: underline\">o</span>d<span style=\"text-decoration: underline\">a</span>y <span style=\"text-decoration: underline\">i</span>s D<span style=\"text-decoration: underline\">e</span>c 3 <span style=\"text-decoration: underline\">a</span>nd th<span style=\"text-decoration: underline\">e</span> t<span style=\"text-decoration: underline\">e</span>mp<span style=\"text-decoration: underline\">e</span>r<span style=\"text-decoration: underline\">a</span>t<span style=\"text-decoration: underline\">u</span>r<span style=\"text-decoration: underline\">e</span> <span style=\"text-decoration: underline\">i</span>s 70 d<span style=\"text-decoration: underline\">e</span>gr<span style=\"text-decoration: underline\">e</span><span style=\"text-decoration: underline\">e</span>s.</div>"
      ],
      "text/plain": [
       "<IPython.core.display.HTML object>"
      ]
     },
     "execution_count": 28,
     "metadata": {},
     "output_type": "execute_result"
    }
   ],
   "source": [
    "hl(r'[aeiou]', subject)"
   ]
  },
  {
   "cell_type": "code",
   "execution_count": 29,
   "metadata": {},
   "outputs": [
    {
     "data": {
      "text/html": [
       "<div style=\"font-family: monospace; letter-spacing: 3px; font-size: 24px; line-height: 36px;\"><span style=\"text-decoration: underline\">H</span>e<span style=\"text-decoration: underline\">l</span><span style=\"text-decoration: underline\">l</span>o<span style=\"text-decoration: underline\">,</span><span style=\"text-decoration: underline\"> </span><span style=\"text-decoration: underline\">B</span>a<span style=\"text-decoration: underline\">y</span>e<span style=\"text-decoration: underline\">s</span><span style=\"text-decoration: underline\">!</span><span style=\"text-decoration: underline\"> </span><span style=\"text-decoration: underline\">T</span>o<span style=\"text-decoration: underline\">d</span>a<span style=\"text-decoration: underline\">y</span><span style=\"text-decoration: underline\"> </span>i<span style=\"text-decoration: underline\">s</span><span style=\"text-decoration: underline\"> </span><span style=\"text-decoration: underline\">D</span>e<span style=\"text-decoration: underline\">c</span><span style=\"text-decoration: underline\"> </span><span style=\"text-decoration: underline\">3</span><span style=\"text-decoration: underline\"> </span>a<span style=\"text-decoration: underline\">n</span><span style=\"text-decoration: underline\">d</span><span style=\"text-decoration: underline\"> </span><span style=\"text-decoration: underline\">t</span><span style=\"text-decoration: underline\">h</span>e<span style=\"text-decoration: underline\"> </span><span style=\"text-decoration: underline\">t</span>e<span style=\"text-decoration: underline\">m</span><span style=\"text-decoration: underline\">p</span>e<span style=\"text-decoration: underline\">r</span>a<span style=\"text-decoration: underline\">t</span>u<span style=\"text-decoration: underline\">r</span>e<span style=\"text-decoration: underline\"> </span>i<span style=\"text-decoration: underline\">s</span><span style=\"text-decoration: underline\"> </span><span style=\"text-decoration: underline\">7</span><span style=\"text-decoration: underline\">0</span><span style=\"text-decoration: underline\"> </span><span style=\"text-decoration: underline\">d</span>e<span style=\"text-decoration: underline\">g</span><span style=\"text-decoration: underline\">r</span>ee<span style=\"text-decoration: underline\">s</span><span style=\"text-decoration: underline\">.</span></div>"
      ],
      "text/plain": [
       "<IPython.core.display.HTML object>"
      ]
     },
     "execution_count": 29,
     "metadata": {},
     "output_type": "execute_result"
    }
   ],
   "source": [
    "hl(r'[^aeiou]', subject)"
   ]
  },
  {
   "cell_type": "code",
   "execution_count": 37,
   "metadata": {},
   "outputs": [
    {
     "data": {
      "text/html": [
       "<div style=\"font-family: monospace; letter-spacing: 3px; font-size: 24px; line-height: 36px;\"><span style=\"text-decoration: underline\">Hello</span>, <span style=\"text-decoration: underline\">Bayes</span>! <span style=\"text-decoration: underline\">Today</span> is <span style=\"text-decoration: underline\">Dec</span> 3 and the temperature is 70 degrees.</div>"
      ],
      "text/plain": [
       "<IPython.core.display.HTML object>"
      ]
     },
     "execution_count": 37,
     "metadata": {},
     "output_type": "execute_result"
    }
   ],
   "source": [
    "hl(r'[A-Z][a-z]+',subject)"
   ]
  },
  {
   "cell_type": "code",
   "execution_count": 38,
   "metadata": {},
   "outputs": [
    {
     "data": {
      "text/plain": [
       "['Hello', 'Bayes', 'Today', 'Dec']"
      ]
     },
     "execution_count": 38,
     "metadata": {},
     "output_type": "execute_result"
    }
   ],
   "source": [
    "re.findall(r'[A-Z][a-z]+',subject)"
   ]
  },
  {
   "cell_type": "code",
   "execution_count": 39,
   "metadata": {
    "scrolled": true
   },
   "outputs": [
    {
     "data": {
      "text/html": [
       "<div style=\"font-family: monospace; letter-spacing: 3px; font-size: 24px; line-height: 36px;\">Hello, Bayes! Today is Dec <span style=\"text-decoration: underline\">3 and the temperature is 70 degrees.</span></div>"
      ],
      "text/plain": [
       "<IPython.core.display.HTML object>"
      ]
     },
     "execution_count": 39,
     "metadata": {},
     "output_type": "execute_result"
    }
   ],
   "source": [
    "hl(r'\\d.+', subject)"
   ]
  },
  {
   "cell_type": "code",
   "execution_count": 41,
   "metadata": {
    "scrolled": true
   },
   "outputs": [
    {
     "data": {
      "text/html": [
       "<div style=\"font-family: monospace; letter-spacing: 3px; font-size: 24px; line-height: 36px;\">Hello, Bayes! Today is Dec <span style=\"text-decoration: underline\">3</span> and the temperature is <span style=\"text-decoration: underline\">70</span> degrees<span style=\"text-decoration: underline\">.</span></div>"
      ],
      "text/plain": [
       "<IPython.core.display.HTML object>"
      ]
     },
     "execution_count": 41,
     "metadata": {},
     "output_type": "execute_result"
    }
   ],
   "source": [
    "hl(r'[\\d.]+', subject)"
   ]
  },
  {
   "cell_type": "code",
   "execution_count": 46,
   "metadata": {},
   "outputs": [
    {
     "data": {
      "text/html": [
       "<div style=\"font-family: monospace; letter-spacing: 3px; font-size: 24px; line-height: 36px;\"><span style=\"text-decoration: underline\">Hello, Bayes! Today is Dec 3 and the temperature is 70</span> degrees.</div>"
      ],
      "text/plain": [
       "<IPython.core.display.HTML object>"
      ]
     },
     "execution_count": 46,
     "metadata": {},
     "output_type": "execute_result"
    }
   ],
   "source": [
    "# This regular expression below is 'greedy'.  It will try to match as much as it can.\n",
    "hl(r'.+\\d', subject)"
   ]
  },
  {
   "cell_type": "code",
   "execution_count": 43,
   "metadata": {},
   "outputs": [
    {
     "data": {
      "text/plain": [
       "['Hello, Bayes! Today is Dec 3 and the temperature is 70']"
      ]
     },
     "execution_count": 43,
     "metadata": {},
     "output_type": "execute_result"
    }
   ],
   "source": [
    "re.findall(r'.+\\d', subject)"
   ]
  },
  {
   "cell_type": "code",
   "execution_count": 44,
   "metadata": {},
   "outputs": [
    {
     "data": {
      "text/plain": [
       "['Hello, Bayes! Today is Dec 3', ' and the temperature is 7']"
      ]
     },
     "execution_count": 44,
     "metadata": {},
     "output_type": "execute_result"
    }
   ],
   "source": [
    "re.findall(r'.+?\\d', subject)"
   ]
  },
  {
   "cell_type": "markdown",
   "metadata": {},
   "source": [
    "### Anchors"
   ]
  },
  {
   "cell_type": "code",
   "execution_count": 49,
   "metadata": {},
   "outputs": [
    {
     "data": {
      "text/plain": [
       "['H']"
      ]
     },
     "execution_count": 49,
     "metadata": {},
     "output_type": "execute_result"
    }
   ],
   "source": [
    "# start of the string then any character\n",
    "re.findall(r'^.', subject)"
   ]
  },
  {
   "cell_type": "code",
   "execution_count": 55,
   "metadata": {},
   "outputs": [
    {
     "data": {
      "text/html": [
       "<div style=\"font-family: monospace; letter-spacing: 3px; font-size: 24px; line-height: 36px;\">Hello, Bayes! Today is Dec 3 and the temperature is 70 degree<span style=\"text-decoration: underline\">s.</span></div>"
      ],
      "text/plain": [
       "<IPython.core.display.HTML object>"
      ]
     },
     "execution_count": 55,
     "metadata": {},
     "output_type": "execute_result"
    }
   ],
   "source": [
    "hl(r'.{2}$', subject)"
   ]
  },
  {
   "cell_type": "code",
   "execution_count": 51,
   "metadata": {},
   "outputs": [
    {
     "data": {
      "text/plain": [
       "['.']"
      ]
     },
     "execution_count": 51,
     "metadata": {},
     "output_type": "execute_result"
    }
   ],
   "source": [
    "# any character and then the end of the string\n",
    "re.findall(r'.$', subject)"
   ]
  },
  {
   "cell_type": "code",
   "execution_count": 50,
   "metadata": {},
   "outputs": [
    {
     "data": {
      "text/plain": [
       "['H',\n",
       " 'e',\n",
       " 'l',\n",
       " 'l',\n",
       " 'o',\n",
       " ',',\n",
       " ' ',\n",
       " 'B',\n",
       " 'a',\n",
       " 'y',\n",
       " 'e',\n",
       " 's',\n",
       " '!',\n",
       " ' ',\n",
       " 'T',\n",
       " 'o',\n",
       " 'd',\n",
       " 'a',\n",
       " 'y',\n",
       " ' ',\n",
       " 'i',\n",
       " 's',\n",
       " ' ',\n",
       " 'D',\n",
       " 'e',\n",
       " 'c',\n",
       " ' ',\n",
       " '3',\n",
       " ' ',\n",
       " 'a',\n",
       " 'n',\n",
       " 'd',\n",
       " ' ',\n",
       " 't',\n",
       " 'h',\n",
       " 'e',\n",
       " ' ',\n",
       " 't',\n",
       " 'e',\n",
       " 'm',\n",
       " 'p',\n",
       " 'e',\n",
       " 'r',\n",
       " 'a',\n",
       " 't',\n",
       " 'u',\n",
       " 'r',\n",
       " 'e',\n",
       " ' ',\n",
       " 'i',\n",
       " 's',\n",
       " ' ',\n",
       " '7',\n",
       " '0',\n",
       " ' ',\n",
       " 'd',\n",
       " 'e',\n",
       " 'g',\n",
       " 'r',\n",
       " 'e',\n",
       " 'e',\n",
       " 's',\n",
       " '.']"
      ]
     },
     "execution_count": 50,
     "metadata": {},
     "output_type": "execute_result"
    }
   ],
   "source": [
    "# any character\n",
    "re.findall(r'.', subject)"
   ]
  },
  {
   "cell_type": "code",
   "execution_count": null,
   "metadata": {},
   "outputs": [],
   "source": [
    "hl(r'.{3}$', subject)"
   ]
  },
  {
   "cell_type": "code",
   "execution_count": 59,
   "metadata": {
    "scrolled": true
   },
   "outputs": [
    {
     "name": "stdout",
     "output_type": "stream",
     "text": [
      "No matches!\n",
      "No matches!\n",
      "No matches!\n",
      "No matches!\n",
      "No matches!\n",
      "No matches!\n",
      "No matches!\n",
      "No matches!\n",
      "No matches!\n",
      "No matches!\n",
      "No matches!\n"
     ]
    },
    {
     "data": {
      "text/html": [
       "<div style=\"font-family: monospace; letter-spacing: 3px; font-size: 24px; line-height: 36px;\">Hell<span style=\"text-decoration: underline\">o</span>, Baye<span style=\"text-decoration: underline\">s</span>! Toda<span style=\"text-decoration: underline\">y</span> i<span style=\"text-decoration: underline\">s</span> De<span style=\"text-decoration: underline\">c</span> <span style=\"text-decoration: underline\">3</span> an<span style=\"text-decoration: underline\">d</span> th<span style=\"text-decoration: underline\">e</span> temperatur<span style=\"text-decoration: underline\">e</span> i<span style=\"text-decoration: underline\">s</span> 7<span style=\"text-decoration: underline\">0</span> degree<span style=\"text-decoration: underline\">s</span>.</div>"
      ],
      "text/plain": [
       "<IPython.core.display.HTML object>"
      ]
     },
     "execution_count": 59,
     "metadata": {},
     "output_type": "execute_result"
    }
   ],
   "source": [
    "hl(r'.\\b', subject)"
   ]
  },
  {
   "cell_type": "code",
   "execution_count": 60,
   "metadata": {},
   "outputs": [
    {
     "data": {
      "text/plain": [
       "['H',\n",
       " ',',\n",
       " 'B',\n",
       " '!',\n",
       " 'T',\n",
       " ' ',\n",
       " 'i',\n",
       " ' ',\n",
       " 'D',\n",
       " ' ',\n",
       " '3',\n",
       " ' ',\n",
       " 'a',\n",
       " ' ',\n",
       " 't',\n",
       " ' ',\n",
       " 't',\n",
       " ' ',\n",
       " 'i',\n",
       " ' ',\n",
       " '7',\n",
       " ' ',\n",
       " 'd',\n",
       " '.']"
      ]
     },
     "execution_count": 60,
     "metadata": {},
     "output_type": "execute_result"
    }
   ],
   "source": [
    "re.findall(r'\\b.', subject)"
   ]
  },
  {
   "cell_type": "code",
   "execution_count": 61,
   "metadata": {
    "scrolled": true
   },
   "outputs": [
    {
     "data": {
      "text/plain": [
       "'Hello, Bayes! Today is Dec 3 and the temperature is 70 degrees.'"
      ]
     },
     "execution_count": 61,
     "metadata": {},
     "output_type": "execute_result"
    }
   ],
   "source": [
    "subject"
   ]
  },
  {
   "cell_type": "code",
   "execution_count": 62,
   "metadata": {},
   "outputs": [
    {
     "data": {
      "text/html": [
       "<div style=\"font-family: monospace; letter-spacing: 3px; font-size: 24px; line-height: 36px;\">Hel<span style=\"text-decoration: underline\">lo</span>, Bay<span style=\"text-decoration: underline\">es</span>! Tod<span style=\"text-decoration: underline\">ay</span> <span style=\"text-decoration: underline\">is</span> D<span style=\"text-decoration: underline\">ec</span> 3 a<span style=\"text-decoration: underline\">nd</span> t<span style=\"text-decoration: underline\">he</span> temperatu<span style=\"text-decoration: underline\">re</span> <span style=\"text-decoration: underline\">is</span> <span style=\"text-decoration: underline\">70</span> degre<span style=\"text-decoration: underline\">es</span>.</div>"
      ],
      "text/plain": [
       "<IPython.core.display.HTML object>"
      ]
     },
     "execution_count": 62,
     "metadata": {},
     "output_type": "execute_result"
    }
   ],
   "source": [
    "hl(r'\\w{2}\\b', subject)"
   ]
  },
  {
   "cell_type": "markdown",
   "metadata": {},
   "source": [
    "### Other Functions\n",
    "\n",
    "- `re.search`\n",
    "- `re.sub`\n",
    "- `re.compile` + flags"
   ]
  },
  {
   "cell_type": "markdown",
   "metadata": {},
   "source": [
    "### Capture Groups"
   ]
  },
  {
   "cell_type": "code",
   "execution_count": 65,
   "metadata": {},
   "outputs": [
    {
     "data": {
      "text/html": [
       "<div style=\"font-family: monospace; letter-spacing: 3px; font-size: 24px; line-height: 36px;\">Hello, Bayes! Today is Dec 3 and the temperature is 70 degrees.</div>"
      ],
      "text/plain": [
       "<IPython.core.display.HTML object>"
      ]
     },
     "execution_count": 65,
     "metadata": {},
     "output_type": "execute_result"
    }
   ],
   "source": [
    "hl(r'\\w+w', subject)"
   ]
  },
  {
   "cell_type": "code",
   "execution_count": 67,
   "metadata": {},
   "outputs": [
    {
     "data": {
      "text/html": [
       "<div style=\"font-family: monospace; letter-spacing: 3px; font-size: 24px; line-height: 36px;\"><span style=\"text-decoration: underline\">Hell<span style=\"color: firebrick\">o</span></span>, <span style=\"text-decoration: underline\">Baye<span style=\"color: firebrick\">s</span></span>! <span style=\"text-decoration: underline\">Toda<span style=\"color: firebrick\">y</span></span> <span style=\"text-decoration: underline\">i<span style=\"color: firebrick\">s</span></span> <span style=\"text-decoration: underline\">De<span style=\"color: firebrick\">c</span></span> 3 <span style=\"text-decoration: underline\">an<span style=\"color: firebrick\">d</span></span> <span style=\"text-decoration: underline\">th<span style=\"color: firebrick\">e</span></span> <span style=\"text-decoration: underline\">temperatur<span style=\"color: firebrick\">e</span></span> <span style=\"text-decoration: underline\">i<span style=\"color: firebrick\">s</span></span> <span style=\"text-decoration: underline\">7<span style=\"color: firebrick\">0</span></span> <span style=\"text-decoration: underline\">degree<span style=\"color: firebrick\">s</span></span>.</div>"
      ],
      "text/plain": [
       "<IPython.core.display.HTML object>"
      ]
     },
     "execution_count": 67,
     "metadata": {},
     "output_type": "execute_result"
    }
   ],
   "source": [
    "hl('\\w+(\\w)', subject)"
   ]
  },
  {
   "cell_type": "code",
   "execution_count": 70,
   "metadata": {},
   "outputs": [
    {
     "data": {
      "text/html": [
       "<div style=\"font-family: monospace; letter-spacing: 3px; font-size: 24px; line-height: 36px;\">He<span style=\"text-decoration: underline\"><span style=\"color: firebrick\">l</span>l</span>o, Bayes! Today is Dec 3 and the temperature is 70 degr<span style=\"text-decoration: underline\"><span style=\"color: firebrick\">e</span>e</span>s.</div>"
      ],
      "text/plain": [
       "<IPython.core.display.HTML object>"
      ]
     },
     "execution_count": 70,
     "metadata": {},
     "output_type": "execute_result"
    }
   ],
   "source": [
    "hl(r'(\\w)\\1', subject)"
   ]
  },
  {
   "cell_type": "code",
   "execution_count": null,
   "metadata": {},
   "outputs": [],
   "source": [
    "## double letter"
   ]
  },
  {
   "cell_type": "code",
   "execution_count": 71,
   "metadata": {},
   "outputs": [],
   "source": [
    "date = '03 12 2019'"
   ]
  },
  {
   "cell_type": "code",
   "execution_count": 72,
   "metadata": {},
   "outputs": [
    {
     "data": {
      "text/plain": [
       "'ZERO3 12 2ZERO19'"
      ]
     },
     "execution_count": 72,
     "metadata": {},
     "output_type": "execute_result"
    }
   ],
   "source": [
    "# re.sub(needle, replacement, haystack)\n",
    "re.sub(r'0', 'ZERO', date)"
   ]
  },
  {
   "cell_type": "code",
   "execution_count": 74,
   "metadata": {},
   "outputs": [
    {
     "data": {
      "text/plain": [
       "'DIGIT DIGIT DIGIT'"
      ]
     },
     "execution_count": 74,
     "metadata": {},
     "output_type": "execute_result"
    }
   ],
   "source": [
    "re.sub(r'\\d+', 'DIGIT', date)"
   ]
  },
  {
   "cell_type": "code",
   "execution_count": 75,
   "metadata": {},
   "outputs": [
    {
     "data": {
      "text/plain": [
       "'???'"
      ]
     },
     "execution_count": 75,
     "metadata": {},
     "output_type": "execute_result"
    }
   ],
   "source": [
    "re.sub(r'(\\d{2})\\s(\\d{2})\\s(\\d{4})', '???', date)"
   ]
  },
  {
   "cell_type": "code",
   "execution_count": 76,
   "metadata": {
    "scrolled": true
   },
   "outputs": [
    {
     "data": {
      "text/plain": [
       "'03-12-2019'"
      ]
     },
     "execution_count": 76,
     "metadata": {},
     "output_type": "execute_result"
    }
   ],
   "source": [
    "re.sub(r'(\\d{2})\\s(\\d{2})\\s(\\d{4})', r'\\1-\\2-\\3', date)"
   ]
  },
  {
   "cell_type": "code",
   "execution_count": 77,
   "metadata": {},
   "outputs": [
    {
     "data": {
      "text/plain": [
       "'12/03/2019'"
      ]
     },
     "execution_count": 77,
     "metadata": {},
     "output_type": "execute_result"
    }
   ],
   "source": [
    "re.sub(r'(\\d{2})\\s(\\d{2})\\s(\\d{4})', r'\\2/\\1/\\3', date)"
   ]
  },
  {
   "cell_type": "markdown",
   "metadata": {},
   "source": [
    "### Flags"
   ]
  },
  {
   "cell_type": "code",
   "execution_count": 79,
   "metadata": {},
   "outputs": [
    {
     "data": {
      "text/plain": [
       "re.compile(r'', re.IGNORECASE|re.MULTILINE|re.UNICODE|re.VERBOSE)"
      ]
     },
     "execution_count": 79,
     "metadata": {},
     "output_type": "execute_result"
    }
   ],
   "source": [
    "re.compile(r'', re.IGNORECASE | re.MULTILINE | re.VERBOSE)"
   ]
  },
  {
   "cell_type": "markdown",
   "metadata": {},
   "source": [
    "### Usage with Pandas"
   ]
  },
  {
   "cell_type": "code",
   "execution_count": 78,
   "metadata": {},
   "outputs": [
    {
     "data": {
      "text/plain": [
       "<function pandas.core.strings.StringMethods.extract(self, pat, flags=0, expand=True)>"
      ]
     },
     "execution_count": 78,
     "metadata": {},
     "output_type": "execute_result"
    }
   ],
   "source": [
    "pd.Series.str.extract"
   ]
  },
  {
   "cell_type": "code",
   "execution_count": 87,
   "metadata": {},
   "outputs": [
    {
     "data": {
      "text/html": [
       "<div>\n",
       "<style scoped>\n",
       "    .dataframe tbody tr th:only-of-type {\n",
       "        vertical-align: middle;\n",
       "    }\n",
       "\n",
       "    .dataframe tbody tr th {\n",
       "        vertical-align: top;\n",
       "    }\n",
       "\n",
       "    .dataframe thead th {\n",
       "        text-align: right;\n",
       "    }\n",
       "</style>\n",
       "<table border=\"1\" class=\"dataframe\">\n",
       "  <thead>\n",
       "    <tr style=\"text-align: right;\">\n",
       "      <th></th>\n",
       "      <th>0</th>\n",
       "    </tr>\n",
       "  </thead>\n",
       "  <tbody>\n",
       "    <tr>\n",
       "      <th>0</th>\n",
       "      <td>84</td>\n",
       "    </tr>\n",
       "    <tr>\n",
       "      <th>1</th>\n",
       "      <td>4</td>\n",
       "    </tr>\n",
       "    <tr>\n",
       "      <th>2</th>\n",
       "      <td>740</td>\n",
       "    </tr>\n",
       "    <tr>\n",
       "      <th>3</th>\n",
       "      <td>1</td>\n",
       "    </tr>\n",
       "    <tr>\n",
       "      <th>4</th>\n",
       "      <td>NaN</td>\n",
       "    </tr>\n",
       "    <tr>\n",
       "      <th>5</th>\n",
       "      <td>124</td>\n",
       "    </tr>\n",
       "  </tbody>\n",
       "</table>\n",
       "</div>"
      ],
      "text/plain": [
       "     0\n",
       "0   84\n",
       "1    4\n",
       "2  740\n",
       "3    1\n",
       "4  NaN\n",
       "5  124"
      ]
     },
     "execution_count": 87,
     "metadata": {},
     "output_type": "execute_result"
    }
   ],
   "source": [
    "# grabs the first group of digits and puts in pandas dataframe\n",
    "addresses.str.extract(r'^(\\d+)')"
   ]
  },
  {
   "cell_type": "code",
   "execution_count": 90,
   "metadata": {},
   "outputs": [
    {
     "data": {
      "text/html": [
       "<div>\n",
       "<style scoped>\n",
       "    .dataframe tbody tr th:only-of-type {\n",
       "        vertical-align: middle;\n",
       "    }\n",
       "\n",
       "    .dataframe tbody tr th {\n",
       "        vertical-align: top;\n",
       "    }\n",
       "\n",
       "    .dataframe thead th {\n",
       "        text-align: right;\n",
       "    }\n",
       "</style>\n",
       "<table border=\"1\" class=\"dataframe\">\n",
       "  <thead>\n",
       "    <tr style=\"text-align: right;\">\n",
       "      <th></th>\n",
       "      <th>0</th>\n",
       "      <th>1</th>\n",
       "    </tr>\n",
       "  </thead>\n",
       "  <tbody>\n",
       "    <tr>\n",
       "      <th>0</th>\n",
       "      <td>84</td>\n",
       "      <td>Rainey Street, Arlen</td>\n",
       "    </tr>\n",
       "    <tr>\n",
       "      <th>1</th>\n",
       "      <td>4</td>\n",
       "      <td>Privet Drive, Little Whinging, Surrey</td>\n",
       "    </tr>\n",
       "    <tr>\n",
       "      <th>2</th>\n",
       "      <td>740</td>\n",
       "      <td>Evergreen Terrace</td>\n",
       "    </tr>\n",
       "    <tr>\n",
       "      <th>3</th>\n",
       "      <td>1</td>\n",
       "      <td>Infinite Loop, Cupertino</td>\n",
       "    </tr>\n",
       "    <tr>\n",
       "      <th>4</th>\n",
       "      <td>NaN</td>\n",
       "      <td>NaN</td>\n",
       "    </tr>\n",
       "    <tr>\n",
       "      <th>5</th>\n",
       "      <td>124</td>\n",
       "      <td>Conch Street</td>\n",
       "    </tr>\n",
       "  </tbody>\n",
       "</table>\n",
       "</div>"
      ],
      "text/plain": [
       "     0                                      1\n",
       "0   84                   Rainey Street, Arlen\n",
       "1    4  Privet Drive, Little Whinging, Surrey\n",
       "2  740                      Evergreen Terrace\n",
       "3    1               Infinite Loop, Cupertino\n",
       "4  NaN                                    NaN\n",
       "5  124                           Conch Street"
      ]
     },
     "execution_count": 90,
     "metadata": {},
     "output_type": "execute_result"
    }
   ],
   "source": [
    "# everything after a space character up to a comma. Can put a quest mark after the + sign to get everything up to the comma\n",
    "addresses.str.extract(r'^(\\d+)\\s(.+),')\n",
    "\n"
   ]
  },
  {
   "cell_type": "code",
   "execution_count": null,
   "metadata": {},
   "outputs": [],
   "source": []
  }
 ],
 "metadata": {
  "kernelspec": {
   "display_name": "Python 3",
   "language": "python",
   "name": "python3"
  },
  "language_info": {
   "codemirror_mode": {
    "name": "ipython",
    "version": 3
   },
   "file_extension": ".py",
   "mimetype": "text/x-python",
   "name": "python",
   "nbconvert_exporter": "python",
   "pygments_lexer": "ipython3",
   "version": "3.7.3"
  }
 },
 "nbformat": 4,
 "nbformat_minor": 2
}
