{
 "cells": [
  {
   "cell_type": "markdown",
   "metadata": {},
   "source": [
    "### Modeling Exercises\n",
    "\n",
    "1. Use the iris dataset.\n",
    "\n",
    "    - Perform clustering with sepal length, sepal width, and petal length.\n",
    "    - Use a k of 4.\n",
    "    - Create a 3d visualization that shows your clusters along with the features specified above?\n",
    "    - Is 4 the optimal number? Try different values of k and visualize your results.\n",
    "\n",
    "\n",
    "2. Use the mall dataset.\n",
    "\n",
    "    - Perform clustering using annual income and spending score. Try out different values for k.\n",
    "    - Use the resulting clusters to explore your data. What is the center point for each cluster in terms of annual - income and spending score? What is the average age for each cluster?\n",
    "    - Create a 3d plot with annual income, spending score, and age. Use color to distinguish the clusters you have created.\n",
    "\n",
    "\n",
    "3. Load the tips dataset\n",
    "\n",
    "    - Perform k-means clustering with tip and total_bill. Try a k of 2 and a k of 3. Visualize the resulting clusters.\n",
    "    - Create a 3d visualization of tip, total bill, and party size. Use color to indicate the clusters you have created.\n",
    "    - Use the resulting clusters to explore your dataset. What is the average party size for each cluster? How many smokers vs non smokers are in each cluster? Is this different than in the overall population?"
   ]
  },
  {
   "cell_type": "code",
   "execution_count": null,
   "metadata": {},
   "outputs": [],
   "source": []
  }
 ],
 "metadata": {
  "kernelspec": {
   "display_name": "Python 3",
   "language": "python",
   "name": "python3"
  },
  "language_info": {
   "codemirror_mode": {
    "name": "ipython",
    "version": 3
   },
   "file_extension": ".py",
   "mimetype": "text/x-python",
   "name": "python",
   "nbconvert_exporter": "python",
   "pygments_lexer": "ipython3",
   "version": "3.7.3"
  }
 },
 "nbformat": 4,
 "nbformat_minor": 2
}
