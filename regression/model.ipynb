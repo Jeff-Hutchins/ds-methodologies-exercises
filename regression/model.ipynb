{
 "cells": [
  {
   "cell_type": "code",
   "execution_count": 3,
   "metadata": {},
   "outputs": [],
   "source": [
    "import pandas as pd\n",
    "import numpy as np\n",
    "import matplotlib.pyplot as plt\n",
    "import seaborn as sns\n",
    "from sklearn.model_selection import train_test_split\n",
    "from sklearn.metrics import mean_squared_error,r2_score,explained_variance_score\n",
    "from sklearn.preprocessing import StandardScaler,MinMaxScaler\n",
    "from sklearn.linear_model import LinearRegression\n",
    "from math import sqrt\n",
    "import warnings\n",
    "warnings.filterwarnings(\"ignore\")\n",
    "import statsmodels.api as sm\n",
    "from statsmodels.sandbox.regression.predstd import wls_prediction_std\n",
    "\n",
    "#import our scripts that do data science workflow\n",
    "import wrangle\n",
    "import split_scale\n",
    "# import evaluate\n",
    "import features"
   ]
  },
  {
   "cell_type": "markdown",
   "metadata": {},
   "source": [
    "### Our scenario continues:\n",
    "\n",
    "As a customer analyst, I want to know who has spent the most money with us over their lifetime. I have monthly charges and tenure, so I think I will be able to use those two attributes as features to estimate total_charges. I need to do this within an average of $5.00 (RSME) per customer.  So scale X, but not y."
   ]
  },
  {
   "cell_type": "markdown",
   "metadata": {},
   "source": [
    "### 1. run all your previous scripts that acquired, prepared, split, and scaled your data."
   ]
  },
  {
   "cell_type": "code",
   "execution_count": 5,
   "metadata": {},
   "outputs": [],
   "source": [
    "df = wrangle.wrangle_telco()"
   ]
  },
  {
   "cell_type": "code",
   "execution_count": 9,
   "metadata": {},
   "outputs": [],
   "source": [
    "train, test = split_scale.split_my_data(df)"
   ]
  },
  {
   "cell_type": "code",
   "execution_count": 8,
   "metadata": {},
   "outputs": [
    {
     "data": {
      "text/html": [
       "<div>\n",
       "<style scoped>\n",
       "    .dataframe tbody tr th:only-of-type {\n",
       "        vertical-align: middle;\n",
       "    }\n",
       "\n",
       "    .dataframe tbody tr th {\n",
       "        vertical-align: top;\n",
       "    }\n",
       "\n",
       "    .dataframe thead th {\n",
       "        text-align: right;\n",
       "    }\n",
       "</style>\n",
       "<table border=\"1\" class=\"dataframe\">\n",
       "  <thead>\n",
       "    <tr style=\"text-align: right;\">\n",
       "      <th></th>\n",
       "      <th>customer_id</th>\n",
       "      <th>total_charges</th>\n",
       "      <th>monthly_charges</th>\n",
       "      <th>tenure</th>\n",
       "    </tr>\n",
       "  </thead>\n",
       "  <tbody>\n",
       "    <tr>\n",
       "      <th>120</th>\n",
       "      <td>2192-CKRLV</td>\n",
       "      <td>3580.95</td>\n",
       "      <td>49.20</td>\n",
       "      <td>72</td>\n",
       "    </tr>\n",
       "    <tr>\n",
       "      <th>1423</th>\n",
       "      <td>7596-IIWYC</td>\n",
       "      <td>538.20</td>\n",
       "      <td>20.25</td>\n",
       "      <td>27</td>\n",
       "    </tr>\n",
       "    <tr>\n",
       "      <th>389</th>\n",
       "      <td>6408-WHTEF</td>\n",
       "      <td>6376.55</td>\n",
       "      <td>89.40</td>\n",
       "      <td>72</td>\n",
       "    </tr>\n",
       "    <tr>\n",
       "      <th>1137</th>\n",
       "      <td>3070-FNFZQ</td>\n",
       "      <td>478.75</td>\n",
       "      <td>20.40</td>\n",
       "      <td>23</td>\n",
       "    </tr>\n",
       "    <tr>\n",
       "      <th>1504</th>\n",
       "      <td>8774-GSBUN</td>\n",
       "      <td>1797.10</td>\n",
       "      <td>25.40</td>\n",
       "      <td>72</td>\n",
       "    </tr>\n",
       "  </tbody>\n",
       "</table>\n",
       "</div>"
      ],
      "text/plain": [
       "     customer_id  total_charges  monthly_charges  tenure\n",
       "120   2192-CKRLV        3580.95            49.20      72\n",
       "1423  7596-IIWYC         538.20            20.25      27\n",
       "389   6408-WHTEF        6376.55            89.40      72\n",
       "1137  3070-FNFZQ         478.75            20.40      23\n",
       "1504  8774-GSBUN        1797.10            25.40      72"
      ]
     },
     "execution_count": 8,
     "metadata": {},
     "output_type": "execute_result"
    }
   ],
   "source": [
    "test.head()"
   ]
  },
  {
   "cell_type": "code",
   "execution_count": 10,
   "metadata": {},
   "outputs": [],
   "source": [
    "X = train[['monthly_charges', 'tenure']]\n",
    "y = train[['total_charges']]"
   ]
  },
  {
   "cell_type": "markdown",
   "metadata": {},
   "source": [
    "### 2. select your features using your features script"
   ]
  },
  {
   "cell_type": "code",
   "execution_count": null,
   "metadata": {},
   "outputs": [],
   "source": [
    "features.optimal_number_of_features(X_train,y_train)"
   ]
  },
  {
   "cell_type": "code",
   "execution_count": null,
   "metadata": {},
   "outputs": [],
   "source": [
    "features_demo.optimal_features(X_train,X_test,y_train,2)"
   ]
  },
  {
   "cell_type": "markdown",
   "metadata": {},
   "source": [
    "### 3. fit 2 different linear models to your data"
   ]
  },
  {
   "cell_type": "code",
   "execution_count": null,
   "metadata": {},
   "outputs": [],
   "source": [
    "predictions=pd.DataFrame({'actual':y_train.total_charges}).reset_index(drop=True)\n",
    "#model 1\n",
    "lm1=LinearRegression()\n",
    "lm1.fit(X_train[['monthly_charges','tenure']],y_train)\n",
    "lm1_predictions=lm1.predict(X_train[['monthly_charges','tenure']])\n",
    "predictions['lm1']=lm1_predictions\n",
    "\n",
    "#model 2\n",
    "lm2=LinearRegression()\n",
    "lm2.fit(X_train[['tenure']],y_train)\n",
    "lm2_predictions=lm2.predict(X_train[['tenure']])\n",
    "predictions['lm2']=lm2_predictions\n",
    "\n",
    "#baseline model\n",
    "predictions['baseline'] = y_train.mean()[0]\n",
    "predictions.head()\n",
    "#print(lm1.intercept_,lm1.coef_)"
   ]
  },
  {
   "cell_type": "markdown",
   "metadata": {},
   "source": [
    "### 4. evaluate the 2 models and your baseline."
   ]
  },
  {
   "cell_type": "code",
   "execution_count": null,
   "metadata": {},
   "outputs": [],
   "source": [
    "MSE_baseline = mean_squared_error(predictions.actual, predictions.baseline)\n",
    "SSE_baseline = MSE_baseline*len(predictions.actual)\n",
    "RMSE_baseline = sqrt(MSE_baseline)\n",
    "r2_baseline = r2_score(predictions.actual, predictions.baseline)\n",
    "print(MSE_baseline,SSE_baseline,RMSE_baseline,r2_baseline)"
   ]
  },
  {
   "cell_type": "code",
   "execution_count": null,
   "metadata": {},
   "outputs": [],
   "source": [
    "MSE_1 = mean_squared_error(predictions.actual, predictions.lm1)\n",
    "SSE_1 = MSE_1*len(predictions.actual)\n",
    "RMSE_1 = sqrt(MSE_1)\n",
    "r2_1 = r2_score(predictions.actual, predictions.lm1)\n",
    "print(MSE_1,SSE_1,RMSE_1,r2_1)"
   ]
  },
  {
   "cell_type": "code",
   "execution_count": null,
   "metadata": {},
   "outputs": [],
   "source": [
    "MSE_2 = mean_squared_error(predictions.actual, predictions.lm2)\n",
    "SSE_2 = MSE_2*len(predictions.actual)\n",
    "RMSE_2 = sqrt(MSE_2)\n",
    "r2_2 = r2_score(predictions.actual, predictions.lm2)\n",
    "print(MSE_2,SSE_2,RMSE_2,r2_2)"
   ]
  },
  {
   "cell_type": "markdown",
   "metadata": {},
   "source": [
    "### 5. select the one that performed the best."
   ]
  },
  {
   "cell_type": "markdown",
   "metadata": {},
   "source": [
    "The model with monthly charges and tenure performed the best"
   ]
  },
  {
   "cell_type": "markdown",
   "metadata": {},
   "source": [
    "### 6. apply to your test data"
   ]
  },
  {
   "cell_type": "code",
   "execution_count": null,
   "metadata": {},
   "outputs": [],
   "source": [
    "model=lm1.predict(X_test[['monthly_charges','tenure']])\n",
    "model=model.ravel().reshape(337)\n",
    "y_test1=np.array(y_test).ravel().reshape(337)\n",
    "best_model=pd.DataFrame({'predictions':model,'total_charges':y_test1})\n",
    "\n",
    "best_model.head()"
   ]
  },
  {
   "cell_type": "markdown",
   "metadata": {},
   "source": [
    "### 7. Write a function that creates the model object, fits and predicts, given X_train, X_test, y_train, y_test"
   ]
  },
  {
   "cell_type": "code",
   "execution_count": null,
   "metadata": {},
   "outputs": [],
   "source": [
    "X_train1=X_train[['monthly_charges','tenure']]\n",
    "X_test1=X_test[['monthly_charges','tenure']]\n",
    "def modeling_function(X_train,X_test,y_train,y_test):\n",
    "    predictions_train=pd.DataFrame({'actual':y_train.total_charges}).reset_index(drop=True)\n",
    "    predictions_test=pd.DataFrame({'actual':y_test.total_charges}).reset_index(drop=True)\n",
    "    #model 1\n",
    "    lm1=LinearRegression()\n",
    "    lm1.fit(X_train,y_train)\n",
    "    lm1_predictions=lm1.predict(X_train)\n",
    "    predictions_train['lm1']=lm1_predictions\n",
    "\n",
    "    #model 2\n",
    "    lm2=LinearRegression()\n",
    "    lm2.fit(X_test,y_test)\n",
    "    lm2_predictions=lm2.predict(X_test)\n",
    "    predictions_test['lm2']=lm2_predictions\n",
    "    \n",
    "    return predictions_train,predictions_test"
   ]
  },
  {
   "cell_type": "code",
   "execution_count": null,
   "metadata": {},
   "outputs": [],
   "source": [
    "model_train,model_test=modeling_function(X_train1,X_test1,y_train,y_test)"
   ]
  },
  {
   "cell_type": "markdown",
   "metadata": {},
   "source": [
    "### 8. Write a function, plot_residuals(x, y, dataframe) that takes the feature, the target, and the dataframe as input and returns a residual plot."
   ]
  },
  {
   "cell_type": "code",
   "execution_count": null,
   "metadata": {},
   "outputs": [],
   "source": [
    "def plot_residuals(x, y):\n",
    "    '''\n",
    "    Plots the residuals of a model that uses x to predict y. Note that we don't\n",
    "    need to make any predictions ourselves here, seaborn will create the model\n",
    "    and predictions for us under the hood with the `residplot` function.\n",
    "    '''\n",
    "    return sns.residplot(x, y)\n",
    "\n",
    "x=test[['monthly_charges']]\n",
    "y=test[['total_charges']]\n",
    "plot_residuals(x,y)"
   ]
  },
  {
   "cell_type": "markdown",
   "metadata": {},
   "source": [
    "### 9. Write a function, plot_regression(x, y) that takes a feature and a target and returns the datapoints, the regression line, and the confidence interval.  (Hint: Take advantage of things that have already been written)"
   ]
  },
  {
   "cell_type": "code",
   "execution_count": null,
   "metadata": {},
   "outputs": [],
   "source": [
    "res = sm.OLS(y, x).fit()"
   ]
  },
  {
   "cell_type": "code",
   "execution_count": null,
   "metadata": {},
   "outputs": [],
   "source": [
    "res.summary()"
   ]
  },
  {
   "cell_type": "code",
   "execution_count": null,
   "metadata": {},
   "outputs": [],
   "source": [
    "prstd, iv_l, iv_u = wls_prediction_std(res)\n",
    "\n",
    "fig, ax = plt.subplots(figsize=(8,6))\n",
    "\n",
    "ax.plot(x, y, 'o', label=\"data\")\n",
    "#ax.plot(x, y, 'b-', label=\"True\")\n",
    "ax.plot(x, res.fittedvalues, 'r--.', label=\"OLS\")\n",
    "ax.plot(x, iv_u, 'g--',label='97.5')\n",
    "ax.plot(x, iv_l, 'b--',label='2.5')\n",
    "ax.legend(loc='best');"
   ]
  },
  {
   "cell_type": "code",
   "execution_count": null,
   "metadata": {},
   "outputs": [],
   "source": [
    "def plot_regression(x,y):\n",
    "    res = sm.OLS(y, x).fit()\n",
    "    prstd, iv_l, iv_u = wls_prediction_std(res)\n",
    "\n",
    "    fig, ax = plt.subplots(figsize=(8,6))\n",
    "\n",
    "    ax.plot(x, y, 'o', label=\"data\")\n",
    "    #ax.plot(x, y, 'b-', label=\"True\")\n",
    "    ax.plot(x, res.fittedvalues, 'r--.', label=\"OLS\")\n",
    "    ax.plot(x, iv_u, 'g--',label='97.5% Confidence Level')\n",
    "    ax.plot(x, iv_l, 'b--',label='2.5% Confidence Level')\n",
    "    ax.legend(loc='best');\n",
    "    plt.show()\n",
    "    "
   ]
  }
 ],
 "metadata": {
  "kernelspec": {
   "display_name": "Python 3",
   "language": "python",
   "name": "python3"
  },
  "language_info": {
   "codemirror_mode": {
    "name": "ipython",
    "version": 3
   },
   "file_extension": ".py",
   "mimetype": "text/x-python",
   "name": "python",
   "nbconvert_exporter": "python",
   "pygments_lexer": "ipython3",
   "version": "3.7.3"
  }
 },
 "nbformat": 4,
 "nbformat_minor": 2
}
